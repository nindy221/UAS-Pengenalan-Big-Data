{
 "cells": [
  {
   "cell_type": "code",
   "execution_count": 44,
   "metadata": {},
   "outputs": [],
   "source": [
    "#untuk mengimport pandas menjadi pd"
   ]
  },
  {
   "cell_type": "code",
   "execution_count": 45,
   "metadata": {},
   "outputs": [],
   "source": [
    "import pandas as pd "
   ]
  },
  {
   "cell_type": "code",
   "execution_count": 46,
   "metadata": {},
   "outputs": [],
   "source": [
    "#from matplotlib import pyplot as plt berfungsi untuk mengimport pyplot menjadi plt"
   ]
  },
  {
   "cell_type": "code",
   "execution_count": 47,
   "metadata": {},
   "outputs": [],
   "source": [
    "from matplotlib import pyplot as plt"
   ]
  },
  {
   "cell_type": "code",
   "execution_count": 48,
   "metadata": {},
   "outputs": [],
   "source": [
    "#berfungsi untuk membaca isi file data_angka.csv"
   ]
  },
  {
   "cell_type": "code",
   "execution_count": 49,
   "metadata": {},
   "outputs": [],
   "source": [
    "sample_data = pd.read_csv('data_angka.csv')"
   ]
  },
  {
   "cell_type": "code",
   "execution_count": 50,
   "metadata": {},
   "outputs": [],
   "source": [
    "#berfungsi untuk menampilkan isi file data_angka.csv"
   ]
  },
  {
   "cell_type": "code",
   "execution_count": 51,
   "metadata": {},
   "outputs": [
    {
     "data": {
      "text/html": [
       "<div>\n",
       "<style scoped>\n",
       "    .dataframe tbody tr th:only-of-type {\n",
       "        vertical-align: middle;\n",
       "    }\n",
       "\n",
       "    .dataframe tbody tr th {\n",
       "        vertical-align: top;\n",
       "    }\n",
       "\n",
       "    .dataframe thead th {\n",
       "        text-align: right;\n",
       "    }\n",
       "</style>\n",
       "<table border=\"1\" class=\"dataframe\">\n",
       "  <thead>\n",
       "    <tr style=\"text-align: right;\">\n",
       "      <th></th>\n",
       "      <th>data_a</th>\n",
       "      <th>data_b</th>\n",
       "      <th>data_c</th>\n",
       "    </tr>\n",
       "  </thead>\n",
       "  <tbody>\n",
       "    <tr>\n",
       "      <th>0</th>\n",
       "      <td>3</td>\n",
       "      <td>2</td>\n",
       "      <td>8</td>\n",
       "    </tr>\n",
       "    <tr>\n",
       "      <th>1</th>\n",
       "      <td>6</td>\n",
       "      <td>2</td>\n",
       "      <td>3</td>\n",
       "    </tr>\n",
       "    <tr>\n",
       "      <th>2</th>\n",
       "      <td>5</td>\n",
       "      <td>2</td>\n",
       "      <td>4</td>\n",
       "    </tr>\n",
       "    <tr>\n",
       "      <th>3</th>\n",
       "      <td>2</td>\n",
       "      <td>9</td>\n",
       "      <td>7</td>\n",
       "    </tr>\n",
       "    <tr>\n",
       "      <th>4</th>\n",
       "      <td>4</td>\n",
       "      <td>5</td>\n",
       "      <td>15</td>\n",
       "    </tr>\n",
       "  </tbody>\n",
       "</table>\n",
       "</div>"
      ],
      "text/plain": [
       "   data_a  data_b  data_c\n",
       "0       3       2       8\n",
       "1       6       2       3\n",
       "2       5       2       4\n",
       "3       2       9       7\n",
       "4       4       5      15"
      ]
     },
     "execution_count": 51,
     "metadata": {},
     "output_type": "execute_result"
    }
   ],
   "source": [
    "sample_data"
   ]
  },
  {
   "cell_type": "code",
   "execution_count": 52,
   "metadata": {},
   "outputs": [],
   "source": [
    "#berfungsi hanya untuk menampilkan data_b"
   ]
  },
  {
   "cell_type": "code",
   "execution_count": 53,
   "metadata": {},
   "outputs": [
    {
     "data": {
      "text/plain": [
       "0    2\n",
       "1    2\n",
       "2    2\n",
       "3    9\n",
       "4    5\n",
       "Name: data_b, dtype: int64"
      ]
     },
     "execution_count": 53,
     "metadata": {},
     "output_type": "execute_result"
    }
   ],
   "source": [
    "sample_data.data_b"
   ]
  },
  {
   "cell_type": "code",
   "execution_count": 54,
   "metadata": {},
   "outputs": [
    {
     "data": {
      "image/png": "[encoded data removed]",
      "text/plain": [
       "<Figure size 432x288 with 1 Axes>"
      ]
     },
     "metadata": {
      "needs_background": "light"
     },
     "output_type": "display_data"
    }
   ],
   "source": [
    "plt.plot(sample_data.data_c, sample_data.data_a)\n",
    "plt.show()"
   ]
  },
  {
   "cell_type": "code",
   "execution_count": 55,
   "metadata": {},
   "outputs": [
    {
     "data": {
      "image/png": "[encoded data removed]",
      "text/plain": [
       "<Figure size 432x288 with 1 Axes>"
      ]
     },
     "metadata": {
      "needs_background": "light"
     },
     "output_type": "display_data"
    }
   ],
   "source": [
    "plt.title(\"Data\") #untuk memberikan judul diatas gambar\n",
    "plt.plot(sample_data.data_c, sample_data.data_b)\n",
    "plt.plot(sample_data.data_b, sample_data.data_a, 'o')\n",
    "plt.legend([\"this is data c and b\", \"this is data b and a\"])\n",
    "plt.show()"
   ]
  },
  {
   "cell_type": "code",
   "execution_count": 56,
   "metadata": {},
   "outputs": [],
   "source": [
    "data = pd.read_csv('provinsi.csv')"
   ]
  },
  {
   "cell_type": "code",
   "execution_count": 57,
   "metadata": {},
   "outputs": [
    {
     "data": {
      "text/html": [
       "<div>\n",
       "<style scoped>\n",
       "    .dataframe tbody tr th:only-of-type {\n",
       "        vertical-align: middle;\n",
       "    }\n",
       "\n",
       "    .dataframe tbody tr th {\n",
       "        vertical-align: top;\n",
       "    }\n",
       "\n",
       "    .dataframe thead th {\n",
       "        text-align: right;\n",
       "    }\n",
       "</style>\n",
       "<table border=\"1\" class=\"dataframe\">\n",
       "  <thead>\n",
       "    <tr style=\"text-align: right;\">\n",
       "      <th></th>\n",
       "      <th>Provinsi</th>\n",
       "      <th>Tahun</th>\n",
       "      <th>Penduduk</th>\n",
       "    </tr>\n",
       "  </thead>\n",
       "  <tbody>\n",
       "    <tr>\n",
       "      <th>0</th>\n",
       "      <td>Aceh</td>\n",
       "      <td>1971</td>\n",
       "      <td>2008595</td>\n",
       "    </tr>\n",
       "    <tr>\n",
       "      <th>1</th>\n",
       "      <td>Aceh</td>\n",
       "      <td>1980</td>\n",
       "      <td>2611271</td>\n",
       "    </tr>\n",
       "    <tr>\n",
       "      <th>2</th>\n",
       "      <td>Aceh</td>\n",
       "      <td>1990</td>\n",
       "      <td>3416156</td>\n",
       "    </tr>\n",
       "    <tr>\n",
       "      <th>3</th>\n",
       "      <td>Aceh</td>\n",
       "      <td>1995</td>\n",
       "      <td>3847583</td>\n",
       "    </tr>\n",
       "    <tr>\n",
       "      <th>4</th>\n",
       "      <td>Aceh</td>\n",
       "      <td>2000</td>\n",
       "      <td>3930905</td>\n",
       "    </tr>\n",
       "    <tr>\n",
       "      <th>5</th>\n",
       "      <td>Aceh</td>\n",
       "      <td>2010</td>\n",
       "      <td>4494410</td>\n",
       "    </tr>\n",
       "    <tr>\n",
       "      <th>6</th>\n",
       "      <td>Aceh</td>\n",
       "      <td>2019</td>\n",
       "      <td>5281891</td>\n",
       "    </tr>\n",
       "    <tr>\n",
       "      <th>7</th>\n",
       "      <td>SumateraUtara</td>\n",
       "      <td>1971</td>\n",
       "      <td>2008595</td>\n",
       "    </tr>\n",
       "    <tr>\n",
       "      <th>8</th>\n",
       "      <td>SumateraUtara</td>\n",
       "      <td>1980</td>\n",
       "      <td>8360894</td>\n",
       "    </tr>\n",
       "    <tr>\n",
       "      <th>9</th>\n",
       "      <td>SumateraUtara</td>\n",
       "      <td>1990</td>\n",
       "      <td>10256027</td>\n",
       "    </tr>\n",
       "    <tr>\n",
       "      <th>10</th>\n",
       "      <td>SumateraUtara</td>\n",
       "      <td>1995</td>\n",
       "      <td>11114667</td>\n",
       "    </tr>\n",
       "    <tr>\n",
       "      <th>11</th>\n",
       "      <td>SumateraUtara</td>\n",
       "      <td>2000</td>\n",
       "      <td>11649655</td>\n",
       "    </tr>\n",
       "    <tr>\n",
       "      <th>12</th>\n",
       "      <td>SumateraUtara</td>\n",
       "      <td>2010</td>\n",
       "      <td>12982204</td>\n",
       "    </tr>\n",
       "    <tr>\n",
       "      <th>13</th>\n",
       "      <td>SumateraUtara</td>\n",
       "      <td>2019</td>\n",
       "      <td>13222101</td>\n",
       "    </tr>\n",
       "    <tr>\n",
       "      <th>14</th>\n",
       "      <td>SumateraBarat</td>\n",
       "      <td>1971</td>\n",
       "      <td>2793196</td>\n",
       "    </tr>\n",
       "    <tr>\n",
       "      <th>15</th>\n",
       "      <td>SumateraBarat</td>\n",
       "      <td>1980</td>\n",
       "      <td>3406816</td>\n",
       "    </tr>\n",
       "    <tr>\n",
       "      <th>16</th>\n",
       "      <td>SumateraBarat</td>\n",
       "      <td>1990</td>\n",
       "      <td>4000207</td>\n",
       "    </tr>\n",
       "    <tr>\n",
       "      <th>17</th>\n",
       "      <td>SumateraBarat</td>\n",
       "      <td>1995</td>\n",
       "      <td>4323170</td>\n",
       "    </tr>\n",
       "    <tr>\n",
       "      <th>18</th>\n",
       "      <td>SumateraBarat</td>\n",
       "      <td>2000</td>\n",
       "      <td>4248931</td>\n",
       "    </tr>\n",
       "    <tr>\n",
       "      <th>19</th>\n",
       "      <td>SumateraBarat</td>\n",
       "      <td>2010</td>\n",
       "      <td>4846909</td>\n",
       "    </tr>\n",
       "    <tr>\n",
       "      <th>20</th>\n",
       "      <td>SumateraBarat</td>\n",
       "      <td>2019</td>\n",
       "      <td>5134002</td>\n",
       "    </tr>\n",
       "    <tr>\n",
       "      <th>21</th>\n",
       "      <td>Riau</td>\n",
       "      <td>1971</td>\n",
       "      <td>1641545</td>\n",
       "    </tr>\n",
       "  </tbody>\n",
       "</table>\n",
       "</div>"
      ],
      "text/plain": [
       "         Provinsi  Tahun  Penduduk\n",
       "0            Aceh   1971   2008595\n",
       "1            Aceh   1980   2611271\n",
       "2            Aceh   1990   3416156\n",
       "3            Aceh   1995   3847583\n",
       "4            Aceh   2000   3930905\n",
       "5            Aceh   2010   4494410\n",
       "6            Aceh   2019   5281891\n",
       "7   SumateraUtara   1971   2008595\n",
       "8   SumateraUtara   1980   8360894\n",
       "9   SumateraUtara   1990  10256027\n",
       "10  SumateraUtara   1995  11114667\n",
       "11  SumateraUtara   2000  11649655\n",
       "12  SumateraUtara   2010  12982204\n",
       "13  SumateraUtara   2019  13222101\n",
       "14  SumateraBarat   1971   2793196\n",
       "15  SumateraBarat   1980   3406816\n",
       "16  SumateraBarat   1990   4000207\n",
       "17  SumateraBarat   1995   4323170\n",
       "18  SumateraBarat   2000   4248931\n",
       "19  SumateraBarat   2010   4846909\n",
       "20  SumateraBarat   2019   5134002\n",
       "21           Riau   1971   1641545"
      ]
     },
     "execution_count": 57,
     "metadata": {},
     "output_type": "execute_result"
    }
   ],
   "source": [
    "data"
   ]
  },
  {
   "cell_type": "code",
   "execution_count": 58,
   "metadata": {},
   "outputs": [],
   "source": [
    "#membuat perbandingan jumlah penduduk Sumatera Barat dan Sumatera Utara"
   ]
  },
  {
   "cell_type": "code",
   "execution_count": 59,
   "metadata": {},
   "outputs": [
    {
     "data": {
      "text/html": [
       "<div>\n",
       "<style scoped>\n",
       "    .dataframe tbody tr th:only-of-type {\n",
       "        vertical-align: middle;\n",
       "    }\n",
       "\n",
       "    .dataframe tbody tr th {\n",
       "        vertical-align: top;\n",
       "    }\n",
       "\n",
       "    .dataframe thead th {\n",
       "        text-align: right;\n",
       "    }\n",
       "</style>\n",
       "<table border=\"1\" class=\"dataframe\">\n",
       "  <thead>\n",
       "    <tr style=\"text-align: right;\">\n",
       "      <th></th>\n",
       "      <th>Provinsi</th>\n",
       "      <th>Tahun</th>\n",
       "      <th>Penduduk</th>\n",
       "    </tr>\n",
       "  </thead>\n",
       "  <tbody>\n",
       "    <tr>\n",
       "      <th>14</th>\n",
       "      <td>SumateraBarat</td>\n",
       "      <td>1971</td>\n",
       "      <td>2793196</td>\n",
       "    </tr>\n",
       "    <tr>\n",
       "      <th>15</th>\n",
       "      <td>SumateraBarat</td>\n",
       "      <td>1980</td>\n",
       "      <td>3406816</td>\n",
       "    </tr>\n",
       "    <tr>\n",
       "      <th>16</th>\n",
       "      <td>SumateraBarat</td>\n",
       "      <td>1990</td>\n",
       "      <td>4000207</td>\n",
       "    </tr>\n",
       "    <tr>\n",
       "      <th>17</th>\n",
       "      <td>SumateraBarat</td>\n",
       "      <td>1995</td>\n",
       "      <td>4323170</td>\n",
       "    </tr>\n",
       "    <tr>\n",
       "      <th>18</th>\n",
       "      <td>SumateraBarat</td>\n",
       "      <td>2000</td>\n",
       "      <td>4248931</td>\n",
       "    </tr>\n",
       "    <tr>\n",
       "      <th>19</th>\n",
       "      <td>SumateraBarat</td>\n",
       "      <td>2010</td>\n",
       "      <td>4846909</td>\n",
       "    </tr>\n",
       "    <tr>\n",
       "      <th>20</th>\n",
       "      <td>SumateraBarat</td>\n",
       "      <td>2019</td>\n",
       "      <td>5134002</td>\n",
       "    </tr>\n",
       "  </tbody>\n",
       "</table>\n",
       "</div>"
      ],
      "text/plain": [
       "         Provinsi  Tahun  Penduduk\n",
       "14  SumateraBarat   1971   2793196\n",
       "15  SumateraBarat   1980   3406816\n",
       "16  SumateraBarat   1990   4000207\n",
       "17  SumateraBarat   1995   4323170\n",
       "18  SumateraBarat   2000   4248931\n",
       "19  SumateraBarat   2010   4846909\n",
       "20  SumateraBarat   2019   5134002"
      ]
     },
     "execution_count": 59,
     "metadata": {},
     "output_type": "execute_result"
    }
   ],
   "source": [
    "data[data.Provinsi == 'SumateraBarat']"
   ]
  },
  {
   "cell_type": "code",
   "execution_count": 60,
   "metadata": {},
   "outputs": [],
   "source": [
    "#berfungsi untuk mempermudah pada saat pemanggilan Provinsi"
   ]
  },
  {
   "cell_type": "code",
   "execution_count": 61,
   "metadata": {},
   "outputs": [],
   "source": [
    "sba = data[data.Provinsi == 'SumateraBarat'] "
   ]
  },
  {
   "cell_type": "code",
   "execution_count": 62,
   "metadata": {},
   "outputs": [],
   "source": [
    "#untuk menampilkan data berdasarkan provinsi yang sudah ditentukan"
   ]
  },
  {
   "cell_type": "code",
   "execution_count": 63,
   "metadata": {},
   "outputs": [
    {
     "data": {
      "text/html": [
       "<div>\n",
       "<style scoped>\n",
       "    .dataframe tbody tr th:only-of-type {\n",
       "        vertical-align: middle;\n",
       "    }\n",
       "\n",
       "    .dataframe tbody tr th {\n",
       "        vertical-align: top;\n",
       "    }\n",
       "\n",
       "    .dataframe thead th {\n",
       "        text-align: right;\n",
       "    }\n",
       "</style>\n",
       "<table border=\"1\" class=\"dataframe\">\n",
       "  <thead>\n",
       "    <tr style=\"text-align: right;\">\n",
       "      <th></th>\n",
       "      <th>Provinsi</th>\n",
       "      <th>Tahun</th>\n",
       "      <th>Penduduk</th>\n",
       "    </tr>\n",
       "  </thead>\n",
       "  <tbody>\n",
       "    <tr>\n",
       "      <th>14</th>\n",
       "      <td>SumateraBarat</td>\n",
       "      <td>1971</td>\n",
       "      <td>2793196</td>\n",
       "    </tr>\n",
       "    <tr>\n",
       "      <th>15</th>\n",
       "      <td>SumateraBarat</td>\n",
       "      <td>1980</td>\n",
       "      <td>3406816</td>\n",
       "    </tr>\n",
       "    <tr>\n",
       "      <th>16</th>\n",
       "      <td>SumateraBarat</td>\n",
       "      <td>1990</td>\n",
       "      <td>4000207</td>\n",
       "    </tr>\n",
       "    <tr>\n",
       "      <th>17</th>\n",
       "      <td>SumateraBarat</td>\n",
       "      <td>1995</td>\n",
       "      <td>4323170</td>\n",
       "    </tr>\n",
       "    <tr>\n",
       "      <th>18</th>\n",
       "      <td>SumateraBarat</td>\n",
       "      <td>2000</td>\n",
       "      <td>4248931</td>\n",
       "    </tr>\n",
       "    <tr>\n",
       "      <th>19</th>\n",
       "      <td>SumateraBarat</td>\n",
       "      <td>2010</td>\n",
       "      <td>4846909</td>\n",
       "    </tr>\n",
       "    <tr>\n",
       "      <th>20</th>\n",
       "      <td>SumateraBarat</td>\n",
       "      <td>2019</td>\n",
       "      <td>5134002</td>\n",
       "    </tr>\n",
       "  </tbody>\n",
       "</table>\n",
       "</div>"
      ],
      "text/plain": [
       "         Provinsi  Tahun  Penduduk\n",
       "14  SumateraBarat   1971   2793196\n",
       "15  SumateraBarat   1980   3406816\n",
       "16  SumateraBarat   1990   4000207\n",
       "17  SumateraBarat   1995   4323170\n",
       "18  SumateraBarat   2000   4248931\n",
       "19  SumateraBarat   2010   4846909\n",
       "20  SumateraBarat   2019   5134002"
      ]
     },
     "execution_count": 63,
     "metadata": {},
     "output_type": "execute_result"
    }
   ],
   "source": [
    "sba "
   ]
  },
  {
   "cell_type": "code",
   "execution_count": 64,
   "metadata": {},
   "outputs": [],
   "source": [
    "su = data[data.Provinsi == 'SumateraUtara'] #berfungsi untuk mempermudah pada saat pemanggilan Provinsi"
   ]
  },
  {
   "cell_type": "code",
   "execution_count": 65,
   "metadata": {},
   "outputs": [
    {
     "data": {
      "text/html": [
       "<div>\n",
       "<style scoped>\n",
       "    .dataframe tbody tr th:only-of-type {\n",
       "        vertical-align: middle;\n",
       "    }\n",
       "\n",
       "    .dataframe tbody tr th {\n",
       "        vertical-align: top;\n",
       "    }\n",
       "\n",
       "    .dataframe thead th {\n",
       "        text-align: right;\n",
       "    }\n",
       "</style>\n",
       "<table border=\"1\" class=\"dataframe\">\n",
       "  <thead>\n",
       "    <tr style=\"text-align: right;\">\n",
       "      <th></th>\n",
       "      <th>Provinsi</th>\n",
       "      <th>Tahun</th>\n",
       "      <th>Penduduk</th>\n",
       "    </tr>\n",
       "  </thead>\n",
       "  <tbody>\n",
       "    <tr>\n",
       "      <th>7</th>\n",
       "      <td>SumateraUtara</td>\n",
       "      <td>1971</td>\n",
       "      <td>2008595</td>\n",
       "    </tr>\n",
       "    <tr>\n",
       "      <th>8</th>\n",
       "      <td>SumateraUtara</td>\n",
       "      <td>1980</td>\n",
       "      <td>8360894</td>\n",
       "    </tr>\n",
       "    <tr>\n",
       "      <th>9</th>\n",
       "      <td>SumateraUtara</td>\n",
       "      <td>1990</td>\n",
       "      <td>10256027</td>\n",
       "    </tr>\n",
       "    <tr>\n",
       "      <th>10</th>\n",
       "      <td>SumateraUtara</td>\n",
       "      <td>1995</td>\n",
       "      <td>11114667</td>\n",
       "    </tr>\n",
       "    <tr>\n",
       "      <th>11</th>\n",
       "      <td>SumateraUtara</td>\n",
       "      <td>2000</td>\n",
       "      <td>11649655</td>\n",
       "    </tr>\n",
       "    <tr>\n",
       "      <th>12</th>\n",
       "      <td>SumateraUtara</td>\n",
       "      <td>2010</td>\n",
       "      <td>12982204</td>\n",
       "    </tr>\n",
       "    <tr>\n",
       "      <th>13</th>\n",
       "      <td>SumateraUtara</td>\n",
       "      <td>2019</td>\n",
       "      <td>13222101</td>\n",
       "    </tr>\n",
       "  </tbody>\n",
       "</table>\n",
       "</div>"
      ],
      "text/plain": [
       "         Provinsi  Tahun  Penduduk\n",
       "7   SumateraUtara   1971   2008595\n",
       "8   SumateraUtara   1980   8360894\n",
       "9   SumateraUtara   1990  10256027\n",
       "10  SumateraUtara   1995  11114667\n",
       "11  SumateraUtara   2000  11649655\n",
       "12  SumateraUtara   2010  12982204\n",
       "13  SumateraUtara   2019  13222101"
      ]
     },
     "execution_count": 65,
     "metadata": {},
     "output_type": "execute_result"
    }
   ],
   "source": [
    "su #untuk menampilkan data berdasarkan provinsi yang sudah ditentukan"
   ]
  },
  {
   "cell_type": "code",
   "execution_count": 66,
   "metadata": {},
   "outputs": [
    {
     "data": {
      "image/png": "[encoded data removed]",
      "text/plain": [
       "<Figure size 432x288 with 1 Axes>"
      ]
     },
     "metadata": {
      "needs_background": "light"
     },
     "output_type": "display_data"
    }
   ],
   "source": [
    "plt.title(\"Data Penduduk Pertahun\") \n",
    "plt.plot(sba.Tahun, sba.Penduduk / 4*2) # (/4*2) berfungsi untuk menghindari error pada perhitungan karena jumlah penduduk sangat besar \n",
    "plt.plot(su.Tahun, su.Penduduk / 4*2)\n",
    "plt.legend(['SumateraBarat', 'SumateraUtara']) #plt.legend berfungsi untuk memberikan label garis biru dan garis orange\n",
    "plt.xlabel('Tahun') #plt.xlabel untuk memberikan label pada garis bawah yaitu 'Tahun'\n",
    "plt.ylabel('Penduduk') #plt.ylabel untuk memberikan label pada garis bawah yaitu 'Penduduk'\n",
    "plt.show() #umtuk menampilkan isi data dalam bentuk grafik"
   ]
  }
 ],
 "metadata": {
  "kernelspec": {
   "display_name": "Python 3",
   "language": "python",
   "name": "python3"
  },
  "language_info": {
   "codemirror_mode": {
    "name": "ipython",
    "version": 3
   },
   "file_extension": ".py",
   "mimetype": "text/x-python",
   "name": "python",
   "nbconvert_exporter": "python",
   "pygments_lexer": "ipython3",
   "version": "3.7.6"
  }
 },
 "nbformat": 4,
 "nbformat_minor": 4
}
